{
 "metadata": {
  "name": ""
 },
 "nbformat": 3,
 "nbformat_minor": 0,
 "worksheets": [
  {
   "cells": [
    {
     "cell_type": "code",
     "collapsed": false,
     "input": [
      "%pylab inline\n",
      "import numpy as np\n",
      "import scipy.integrate\n",
      "import matplotlib.pyplot as plt"
     ],
     "language": "python",
     "metadata": {},
     "outputs": [
      {
       "output_type": "stream",
       "stream": "stdout",
       "text": [
        "Populating the interactive namespace from numpy and matplotlib\n"
       ]
      }
     ],
     "prompt_number": 9
    },
    {
     "cell_type": "code",
     "collapsed": false,
     "input": [
      "def rate_of_elastic_cauchy_stress(sigma,t,bulk_mod,shear_mod,name):\n",
      "    \"\"\"\n",
      "       Compute the objective rate of Cauchy stress\n",
      "    \"\"\"\n",
      "    \n",
      "    sigma = np.array(sigma,dtype=np.double).reshape(2,2)\n",
      "    \n",
      "    F = lambda t: np.array([[1,t],[0,1]],dtype=np.double)\n",
      "    \n",
      "    Fdot = np.array([[0,1],[0,0]],dtype=np.double)\n",
      "    \n",
      "    Finv = lambda t: np.array([[1,-t],[0,1]],dtype=np.double)\n",
      "    \n",
      "    L = np.dot(Fdot,Finv(t))\n",
      "    \n",
      "    D = 0.5 * (L + L.T)\n",
      "    \n",
      "    trace_D = np.sum(np.diagonal(D))\n",
      "    \n",
      "    #options are Truesdell, Juamann, Green-Naghdi\n",
      "    if name == 'Truesdell':\n",
      "        \n",
      "        d_sigma_dt = bulk_mod * trace_D * np.eye(2) + 2.0 * shear_mod * D + L * sigma + sigma * L - sigma * trace_D\n",
      "        \n",
      "    elif name == 'Jaumann':\n",
      "        \n",
      "        W = 0.5 * (L - L.T)\n",
      "        \n",
      "        d_sigma_dt = bulk_mod * trace_D * np.eye(2) + 2.0 * shear_mod * D + np.dot(W, sigma) + np.dot(sigma, W.T)\n",
      "        \n",
      "    elif name == 'Green-Naghdi':\n",
      "        \n",
      "        beta = lambda t: np.arctan(t / 2)\n",
      "        \n",
      "        Omega = 0.5 * np.cos(beta(t)) ** 2.0 * np.array([[0, 1],[-1, 0]],dtype=np.double)\n",
      "        \n",
      "        d_sigma_dt = bulk_mod * trace_D * np.eye(2) + 2.0 * shear_mod * D + np.dot(Omega, sigma) + np.dot(sigma, Omega.T)\n",
      "        \n",
      "    \n",
      "    return d_sigma_dt.flatten()\n",
      "    \n",
      "    "
     ],
     "language": "python",
     "metadata": {},
     "outputs": [],
     "prompt_number": 10
    },
    {
     "cell_type": "code",
     "collapsed": false,
     "input": [
      "t = np.arange(0,4,0.1)\n",
      "sigma_T = scipy.integrate.odeint(rate_of_elastic_cauchy_stress,[0,0,0,0],t,args=(1,1,'Truesdell'))\n",
      "sigma_J = scipy.integrate.odeint(rate_of_elastic_cauchy_stress,[0,0,0,0],t,args=(1,1,'Jaumann'))\n",
      "sigma_GN = scipy.integrate.odeint(rate_of_elastic_cauchy_stress,[0,0,0,0],t,args=(1,1,'Green-Naghdi'))"
     ],
     "language": "python",
     "metadata": {},
     "outputs": [],
     "prompt_number": 11
    },
    {
     "cell_type": "code",
     "collapsed": false,
     "input": [
      "plt.plot(t,sigma_T[:,2],t,sigma_J[:,2],t,sigma_GN[:,2]);\n",
      "plt.legend(('Truesdell Rate','Jaumann Rate','Green-Naghdi Rate'),loc=2);\n",
      "plt.ylabel('$\\sigma_{12}$');\n",
      "plt.xlabel('$t$');"
     ],
     "language": "python",
     "metadata": {},
     "outputs": [
      {
       "metadata": {},
       "output_type": "display_data",
       "png": "[encoded data removed]",
       "text": [
        "<matplotlib.figure.Figure at 0x1047d1b50>"
       ]
      }
     ],
     "prompt_number": 14
    },
    {
     "cell_type": "code",
     "collapsed": false,
     "input": [],
     "language": "python",
     "metadata": {},
     "outputs": []
    }
   ],
   "metadata": {}
  }
 ]
}